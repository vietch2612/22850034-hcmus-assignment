{
 "cells": [
  {
   "attachments": {},
   "cell_type": "markdown",
   "metadata": {},
   "source": [
    "# Bài tập 1 - Ôn tập Python\n",
    "\n",
    "*(Thống kê máy tính và ứng dụng - ĐTTX Kì 2 2023-2024)*\n",
    "\n",
    "Tài liệu tham khảo: [Bí kíp luyện Python](https://github.com/vqhBook/python)"
   ]
  },
  {
   "cell_type": "markdown",
   "metadata": {},
   "source": [
    "MSSV: 22850034\n",
    "\n",
    "Họ và tên: Cao Hoài Việt"
   ]
  },
  {
   "cell_type": "markdown",
   "metadata": {},
   "source": [
    "## Câu 1 (1 điểm)\n",
    "\n",
    "(Tham khảo: Bài 1-4)"
   ]
  },
  {
   "cell_type": "markdown",
   "metadata": {},
   "source": [
    "**Bài tập 3.8** *(0.5 điểm)*"
   ]
  },
  {
   "cell_type": "code",
   "execution_count": 7,
   "metadata": {},
   "outputs": [
    {
     "name": "stdout",
     "output_type": "stream",
     "text": [
      "A. (0,125)^3*8^3 = 1.00\n",
      "B. 0,6^5/0,2^6 = 1215.00\n",
      "C. (-2,5).0,38.0,4 - 0,125.3,15.(-8) = 2.77\n"
     ]
    }
   ],
   "source": [
    "from decimal import Decimal\n",
    "\n",
    "print(\"A. (0,125)^3*8^3 = {:.2f}\".format((Decimal(0.125)**3)*8**3))\n",
    "print(\"B. 0,6^5/0,2^6 = {:.2f}\".format((Decimal(0.6)**5)/(Decimal(0.2)**6)))\n",
    "print(\"C. (-2,5).0,38.0,4 - 0,125.3,15.(-8) = {:.2f}\".format((Decimal(-2.5)*Decimal(0.38)*Decimal(0.4))-(Decimal(0.125)*Decimal(3.15)*Decimal(-8))))"
   ]
  },
  {
   "cell_type": "markdown",
   "metadata": {},
   "source": [
    "**Bài tập 4.7** *(0.5 điểm)*"
   ]
  },
  {
   "cell_type": "code",
   "execution_count": 4,
   "metadata": {},
   "outputs": [
    {
     "name": "stdout",
     "output_type": "stream",
     "text": [
      "Tổng các chữ số của 231 là 6\n"
     ]
    }
   ],
   "source": [
    "while True:\n",
    "    number = int(input(\"Nhập số nguyên dương có không quá 3 chữ số: \"))\n",
    "    if 0 < number < 1000:\n",
    "        break\n",
    "    else:\n",
    "        print(\"Vui lòng nhập số nguyên dương k quá 3 chữ số. (<=999). Vui lòng nhập lại!\")\n",
    "\n",
    "digit_sum = 0\n",
    "temp_number = number\n",
    "\n",
    "# We use while loop to calculate the sum of digits\n",
    "# 1. Use modulus operator to get the last digit of the number\n",
    "# 2. Use floor division to remove the last digit from number\n",
    "# 3. Repeat this process until number becomes 0\n",
    "while temp_number > 0:\n",
    "    digit_sum += temp_number % 10\n",
    "    temp_number //= 10\n",
    "\n",
    "print(f\"Tổng các chữ số của {number} là {digit_sum}\")\n"
   ]
  },
  {
   "cell_type": "markdown",
   "metadata": {},
   "source": [
    "## Câu 2 (2.5 điểm)\n",
    "\n",
    "(Tham khảo: Bài 6-8)"
   ]
  },
  {
   "cell_type": "markdown",
   "metadata": {},
   "source": [
    "**Bài tập 6.6** *(1 điểm)*"
   ]
  },
  {
   "cell_type": "code",
   "execution_count": null,
   "metadata": {},
   "outputs": [
    {
     "name": "stdout",
     "output_type": "stream",
     "text": [
      "Các số theo thứ tự tăng dần: 1.23, 1.53, 1.545555\n"
     ]
    }
   ],
   "source": [
    "# Chỉ sử dụng if/else, không sử dụng loop.\n",
    "\n",
    "num1 = float(input(\"Nhập số thứ nhất: \"))\n",
    "num2 = float(input(\"Nhập số thứ hai: \"))\n",
    "num3 = float(input(\"Nhập số thứ ba: \"))\n",
    "\n",
    "if num1 > num2:\n",
    "    num1, num2 = num2, num1\n",
    "if num2 > num3:\n",
    "    num2, num3 = num3, num2\n",
    "if num1 > num2:\n",
    "    num1, num2 = num2, num1\n",
    "\n",
    "print(f\"Các số theo thứ tự tăng dần: {num1}, {num2}, {num3}\")"
   ]
  },
  {
   "cell_type": "markdown",
   "metadata": {},
   "source": [
    "**Bài tập 7.4** *(0.5 điểm)*"
   ]
  },
  {
   "cell_type": "code",
   "execution_count": 13,
   "metadata": {},
   "outputs": [
    {
     "name": "stdout",
     "output_type": "stream",
     "text": [
      "Kết quả của 2^(2^3) là: 256\n"
     ]
    }
   ],
   "source": [
    "x = int(input(\"Nhập số thực x: \"))\n",
    "n = int(input(\"Nhập số thực n: \"))\n",
    "\n",
    "result = x\n",
    "for _ in range(n):\n",
    "    result **= 2\n",
    "\n",
    "print(f\"Kết quả của {x}^(2^{n}) là: {result}\")"
   ]
  },
  {
   "cell_type": "markdown",
   "metadata": {},
   "source": [
    "**Bài tập 8.3** *(1 điểm)*"
   ]
  },
  {
   "cell_type": "code",
   "execution_count": null,
   "metadata": {},
   "outputs": [
    {
     "name": "stdout",
     "output_type": "stream",
     "text": [
      "Số 3 CÓ là số nguyên tố\n"
     ]
    }
   ],
   "source": [
    "def is_prime(n):\n",
    "    if n < 2:\n",
    "        return False\n",
    "    for i in range(2, n//2+1):\n",
    "        if n % i == 0:\n",
    "            return False\n",
    "    return True\n",
    "\n",
    "x = int(input(\"Nhập số nguyên không âm x: \"))\n",
    "result = \"CÓ\" if is_prime(x) else \"KHÔNG\"\n",
    "\n",
    "print(f\"Số {x} {result} là số nguyên tố\")"
   ]
  },
  {
   "cell_type": "markdown",
   "metadata": {},
   "source": [
    "## Câu 3 (3 điểm)\n",
    "\n",
    "(Tham khảo: Bài 11)"
   ]
  },
  {
   "cell_type": "markdown",
   "metadata": {},
   "source": [
    "**Bài tập 11.5** *(2.5 điểm)*"
   ]
  },
  {
   "cell_type": "code",
   "execution_count": 3,
   "metadata": {},
   "outputs": [
    {
     "name": "stdout",
     "output_type": "stream",
     "text": [
      "A. Danh sách các chữ số của 123: [3, 2, 1]\n",
      "B.1. Số ký tự của của 123: 3\n",
      "B.2. Tổng các ký tự của của 123: 6\n",
      "B.3. Giá trị của 123: 123\n",
      "C. Tổng của 123 và 321: [4, 4, 4]\n"
     ]
    }
   ],
   "source": [
    "def int_to_digits(n):\n",
    "    digits  = []\n",
    "    while (n > 0):\n",
    "        digits.append(n % 10)\n",
    "        n //= 10\n",
    "    return digits\n",
    "\n",
    "def count_digits(digits):\n",
    "    return len(digits)\n",
    "\n",
    "def sum_digits(digits):\n",
    "    return sum(digits)\n",
    "\n",
    "def eval_digits(digits):\n",
    "    return sum([digit * 10**i for i, digit in enumerate(digits)])\n",
    "\n",
    "def add_digits(digits1, digits2):\n",
    "    for d1, d2 in zip(digits1, digits2):\n",
    "        digits1[digits1.index(d1)] += d2\n",
    "    return digits1\n",
    "\n",
    "\n",
    "n = int(input(\"Nhập số nguyên dương n: \"))\n",
    "digits = int_to_digits(n)\n",
    "\n",
    "print(f\"A. Danh sách các chữ số của {n}: {digits}\")\n",
    "print(f\"B.1. Số ký tự của của {n}: {count_digits(digits)}\")\n",
    "print(f\"B.2. Tổng các ký tự của của {n}: {sum_digits(digits)}\")\n",
    "print(f\"C. Giá trị của {n}: {eval_digits(digits)}\")\n",
    "\n",
    "m = int(input(\"Nhập số nguyên dương m: \"))\n",
    "digits2 = int_to_digits(m)\n",
    "print(f\"D. Tổng của {n} và {m}: {add_digits(digits, digits2)}\")"
   ]
  },
  {
   "cell_type": "markdown",
   "metadata": {},
   "source": [
    "**Bài tập** *(0.5 điểm)*\n",
    "\n",
    "Viết hàm `pretty_str` nhận vào một số nguyên không âm và trả về chuỗi biểu diễn số đó với dấu phẩy phân cách mỗi cụm 3 kí số. \n",
    "\n",
    "*Ví dụ:* `pretty_str(123567890)` trả về chuỗi `\"1,234,567,890\"`. \n",
    "\n",
    "(*Lưu ý*: có thể tận dụng các hàm đã viết ở trên.)"
   ]
  },
  {
   "cell_type": "code",
   "execution_count": null,
   "metadata": {},
   "outputs": [
    {
     "name": "stdout",
     "output_type": "stream",
     "text": [
      "12312312312: 12,312,312,312\n"
     ]
    }
   ],
   "source": [
    "def pretty_str(n):\n",
    "    return f\"{n:,}\"\n",
    "\n",
    "n = int(input(\"Nhập số nguyên dương n: \"))\n",
    "print(f\"{n} được biểu diễn như sau: {pretty_str(n)}\")"
   ]
  },
  {
   "cell_type": "markdown",
   "metadata": {},
   "source": [
    "## Câu 4 (3.5 điểm)\n",
    "\n",
    "(Tham khảo: Bài 12)"
   ]
  },
  {
   "cell_type": "markdown",
   "metadata": {},
   "source": [
    "**Bài tập 12.6** (1 điểm)"
   ]
  },
  {
   "cell_type": "code",
   "execution_count": null,
   "metadata": {},
   "outputs": [
    {
     "name": "stdout",
     "output_type": "stream",
     "text": [
      "36\n",
      "10\n"
     ]
    }
   ],
   "source": [
    "def eval_expression(express, dict):\n",
    "    return eval(express, dict)\n",
    "\n",
    "print(eval_expression(\"x**2 + 2*x + 1\", {\"x\": 5}))\n",
    "print(eval_expression(\"(10 + x)*y\", {\"x\": 0, \"y\": 1}))"
   ]
  },
  {
   "cell_type": "markdown",
   "metadata": {},
   "source": [
    "**Bài tập 12.10** *(2.5 điểm)*"
   ]
  },
  {
   "cell_type": "code",
   "execution_count": 1,
   "metadata": {},
   "outputs": [
    {
     "name": "stdout",
     "output_type": "stream",
     "text": [
      "Trung bình cộng của dãy số là: 2.00\n",
      "Trung vị của dãy số là: 2\n",
      "Giá trị xuất hiện nhiều nhất của dãy số là: 1\n",
      "Khoảng cách giữa giá trị lớn nhất và nhỏ nhất của dãy số là: 2\n",
      "Phương sai của dãy số là: 0.66667\n",
      "Độ lệch chuẩn của dãy số là: 0.81650\n",
      "\n",
      "So sánh với module statistics của Python:\n",
      "Trung bình cộng của dãy số là: 2.00\n",
      "Trung vị của dãy số là: 2\n",
      "Giá trị xuất hiện nhiều nhất của dãy số là: 1\n",
      "Khoảng cách giữa giá trị lớn nhất và nhỏ nhất của dãy số là: 2\n",
      "Phương sai của dãy số là: 0.66667\n",
      "Độ lệch chuẩn của dãy số là: 0.81650\n"
     ]
    }
   ],
   "source": [
    "import my_statistics # my_statistics.py is my custome module for statistics. It's in the same folder with this file.\n",
    "import statistics # Python built-in module for statistics\n",
    "\n",
    "samples = input(\"Nhập dãy số nguyên, cách nhau bởi dấu cách (space): \")\n",
    "samples = samples.split(\" \")\n",
    "samples = [int(sample) for sample in samples]\n",
    "\n",
    "print(f\"Trung bình cộng của dãy số là: {my_statistics.mean(samples):.2f}\")\n",
    "print(f\"Trung vị của dãy số là: {my_statistics.median(samples)}\")\n",
    "print(f\"Giá trị xuất hiện nhiều nhất của dãy số là: {my_statistics.mode(samples)}\")\n",
    "print(f\"Khoảng cách giữa giá trị lớn nhất và nhỏ nhất của dãy số là: {my_statistics.range(samples)}\")\n",
    "print(f\"Phương sai của dãy số là: {my_statistics.variance(samples):.5f}\") \n",
    "print(f\"Độ lệch chuẩn của dãy số là: {my_statistics.standard_deviation(samples):.5f}\")\n",
    "\n",
    "print(f\"\\nSo sánh với module statistics của Python:\")\n",
    "print(f\"Trung bình cộng của dãy số là: {statistics.mean(samples):.2f}\")\n",
    "print(f\"Trung vị của dãy số là: {statistics.median(samples)}\")\n",
    "print(f\"Giá trị xuất hiện nhiều nhất của dãy số là: {statistics.mode(samples)}\")\n",
    "print(f\"Khoảng cách giữa giá trị lớn nhất và nhỏ nhất của dãy số là: {max(samples) - min(samples)}\")\n",
    "print(f\"Phương sai của dãy số là: {statistics.pvariance(samples):.5f}\")\n",
    "print(f\"Độ lệch chuẩn của dãy số là: {statistics.pstdev(samples):.5f}\")\n"
   ]
  }
 ],
 "metadata": {
  "kernelspec": {
   "display_name": "Python 3 (ipykernel)",
   "language": "python",
   "name": "python3"
  },
  "language_info": {
   "codemirror_mode": {
    "name": "ipython",
    "version": 3
   },
   "file_extension": ".py",
   "mimetype": "text/x-python",
   "name": "python",
   "nbconvert_exporter": "python",
   "pygments_lexer": "ipython3",
   "version": "3.11.5"
  },
  "vscode": {
   "interpreter": {
    "hash": "5179d32cf6ec497baf3f8a3ef987cc77c5d2dc691fdde20a56316522f61a7323"
   }
  }
 },
 "nbformat": 4,
 "nbformat_minor": 4
}
